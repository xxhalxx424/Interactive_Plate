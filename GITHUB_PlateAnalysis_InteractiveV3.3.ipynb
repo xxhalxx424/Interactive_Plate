{
 "cells": [
  {
   "cell_type": "markdown",
   "metadata": {},
   "source": [
    "# Plate Analysis Interactive\n",
    "**by Conrad Hall** <br><br>\n",
    "\n",
    "This is an attempt to automate the analysis of a high content screen with a small molecule library.\n",
    "The 5 parameters followed in this screen were:\n",
    "-  ValidObjectCount\n",
    "-  MEAN_TargetTotalIntenCh2\n",
    "-  MEAN_ObjectAvgIntenCh1\n",
    "-  MEAN_ObjectAreaCh1\n",
    "-  %HIGH_TargetTotalIntenCh2\n",
    "\n",
    "The plots are interactive so that all parameters on all plates can be visually inspected as a heatmap"
   ]
  },
  {
   "cell_type": "code",
   "execution_count": 1,
   "metadata": {},
   "outputs": [],
   "source": [
    "import ipywidgets as widgets\n",
    "import glob\n",
    "import re\n",
    "from ipywidgets import fixed\n",
    "from IPython.display import display, Markdown, display_markdown\n",
    "import seaborn as sns\n",
    "import pandas as pd\n",
    "import matplotlib.pyplot as plt\n",
    "from collections import OrderedDict\n",
    "%matplotlib notebook"
   ]
  },
  {
   "cell_type": "markdown",
   "metadata": {},
   "source": [
    "***\n",
    "### Import Data\n",
    "Imports all csv files in a hardcoded path then places the data into dataframes as part of a dictionary. The plate names are also pulled from the filename and stored.\n",
    "\n",
    "**Apply the code from join lopac features to CSV so molecule data is now present as a part of df_dict**"
   ]
  },
  {
   "cell_type": "code",
   "execution_count": 2,
   "metadata": {},
   "outputs": [
    {
     "data": {
      "text/markdown": [
       "### This is a sample of the structure of the imported data for plate 1245:"
      ]
     },
     "metadata": {},
     "output_type": "display_data"
    },
    {
     "data": {
      "text/html": [
       "<div>\n",
       "<style scoped>\n",
       "    .dataframe tbody tr th:only-of-type {\n",
       "        vertical-align: middle;\n",
       "    }\n",
       "\n",
       "    .dataframe tbody tr th {\n",
       "        vertical-align: top;\n",
       "    }\n",
       "\n",
       "    .dataframe thead th {\n",
       "        text-align: right;\n",
       "    }\n",
       "</style>\n",
       "<table border=\"1\" class=\"dataframe\">\n",
       "  <thead>\n",
       "    <tr style=\"text-align: right;\">\n",
       "      <th></th>\n",
       "      <th>molecule</th>\n",
       "      <th>pRow</th>\n",
       "      <th>pCol</th>\n",
       "      <th>%HIGH_TargetTotalIntenCh2</th>\n",
       "      <th>MEAN_ObjectAreaCh1</th>\n",
       "      <th>MEAN_ObjectAvgIntenCh1</th>\n",
       "      <th>MEAN_TargetTotalIntenCh2</th>\n",
       "      <th>ValidObjectCount</th>\n",
       "    </tr>\n",
       "    <tr>\n",
       "      <th>WellID</th>\n",
       "      <th></th>\n",
       "      <th></th>\n",
       "      <th></th>\n",
       "      <th></th>\n",
       "      <th></th>\n",
       "      <th></th>\n",
       "      <th></th>\n",
       "      <th></th>\n",
       "    </tr>\n",
       "  </thead>\n",
       "  <tbody>\n",
       "    <tr>\n",
       "      <th>101</th>\n",
       "      <td>DMSO</td>\n",
       "      <td>1</td>\n",
       "      <td>1</td>\n",
       "      <td>7.96</td>\n",
       "      <td>158.97</td>\n",
       "      <td>3594.84</td>\n",
       "      <td>83311.16</td>\n",
       "      <td>1019</td>\n",
       "    </tr>\n",
       "    <tr>\n",
       "      <th>102</th>\n",
       "      <td>DMSO</td>\n",
       "      <td>1</td>\n",
       "      <td>2</td>\n",
       "      <td>12.94</td>\n",
       "      <td>173.76</td>\n",
       "      <td>3502.27</td>\n",
       "      <td>129541.95</td>\n",
       "      <td>2080</td>\n",
       "    </tr>\n",
       "    <tr>\n",
       "      <th>103</th>\n",
       "      <td>DL-alpha-Methyl-p-tyrosine</td>\n",
       "      <td>1</td>\n",
       "      <td>3</td>\n",
       "      <td>14.20</td>\n",
       "      <td>181.96</td>\n",
       "      <td>3465.02</td>\n",
       "      <td>142029.32</td>\n",
       "      <td>1888</td>\n",
       "    </tr>\n",
       "    <tr>\n",
       "      <th>104</th>\n",
       "      <td>N-Acetyl-L-Cysteine</td>\n",
       "      <td>1</td>\n",
       "      <td>4</td>\n",
       "      <td>20.92</td>\n",
       "      <td>187.53</td>\n",
       "      <td>3362.29</td>\n",
       "      <td>198354.63</td>\n",
       "      <td>1822</td>\n",
       "    </tr>\n",
       "    <tr>\n",
       "      <th>105</th>\n",
       "      <td>6-Methoxy-1,2,3,4-tetrahydro-9H-pyrido[3,4b] i...</td>\n",
       "      <td>1</td>\n",
       "      <td>5</td>\n",
       "      <td>16.29</td>\n",
       "      <td>166.75</td>\n",
       "      <td>3969.12</td>\n",
       "      <td>171912.72</td>\n",
       "      <td>1830</td>\n",
       "    </tr>\n",
       "  </tbody>\n",
       "</table>\n",
       "</div>"
      ],
      "text/plain": [
       "                                                 molecule  pRow  pCol  \\\n",
       "WellID                                                                  \n",
       "101                                                  DMSO     1     1   \n",
       "102                                                  DMSO     1     2   \n",
       "103                            DL-alpha-Methyl-p-tyrosine     1     3   \n",
       "104                                   N-Acetyl-L-Cysteine     1     4   \n",
       "105     6-Methoxy-1,2,3,4-tetrahydro-9H-pyrido[3,4b] i...     1     5   \n",
       "\n",
       "        %HIGH_TargetTotalIntenCh2  MEAN_ObjectAreaCh1  MEAN_ObjectAvgIntenCh1  \\\n",
       "WellID                                                                          \n",
       "101                          7.96              158.97                 3594.84   \n",
       "102                         12.94              173.76                 3502.27   \n",
       "103                         14.20              181.96                 3465.02   \n",
       "104                         20.92              187.53                 3362.29   \n",
       "105                         16.29              166.75                 3969.12   \n",
       "\n",
       "        MEAN_TargetTotalIntenCh2  ValidObjectCount  \n",
       "WellID                                              \n",
       "101                     83311.16              1019  \n",
       "102                    129541.95              2080  \n",
       "103                    142029.32              1888  \n",
       "104                    198354.63              1822  \n",
       "105                    171912.72              1830  "
      ]
     },
     "execution_count": 2,
     "metadata": {},
     "output_type": "execute_result"
    }
   ],
   "source": [
    "# Load Feature Data from CSV into a DataFrame\n",
    "path = r'MoleculeData'\n",
    "filenames = glob.glob(path + '/*.csv')\n",
    "i=0\n",
    "df_dict = {}\n",
    "plate_name = []\n",
    "regex = r'^.*[\\/\\\\](\\D+)(\\d+|\\d+\\D+)\\.\\w+' # Regex finds two groups from the file name. First is the library name and second is the plate name\n",
    "for filename in filenames:\n",
    "    df = pd.read_csv(filename, index_col=0)\n",
    "    plate_name.append(re.findall(regex,filename)[0][1])\n",
    "    df_dict[i]= df\n",
    "    i+=1\n",
    "    \n",
    "# Load Compound List from CSV into a DataFrame\n",
    "drugpath = r'MoleculeData/drug_list'\n",
    "drugfilename = glob.glob(drugpath + '/*.csv')\n",
    "drugdf = pd.read_csv(drugfilename[0], encoding='cp1252')\n",
    "\n",
    "#Rearrange Compound DataFrame to match Feature DataFrame\n",
    "well_list = drugdf[\"well\"].tolist()\n",
    "drug_regex = r'^(\\w)(\\d+)'\n",
    "ID = []\n",
    "for entry in well_list:\n",
    "    row = re.findall(drug_regex,entry)[0][0]\n",
    "    col = re.findall(drug_regex,entry)[0][1]\n",
    "    ID.append(100*(ord(row)-64) + int(col))\n",
    "\n",
    "se = pd.Series(ID)\n",
    "drugdf['WellID'] = se.values\n",
    "drugdf = drugdf.set_index('WellID')\n",
    "drugdf = drugdf.drop(columns='well')\n",
    "\n",
    "# Merge Compound DataFrame into the Feature DataFrame\n",
    "i=0\n",
    "for name in plate_name:\n",
    "    plateregex = r'^\\d+'\n",
    "    df1 = drugdf.loc[(drugdf['plate #'] == int(re.findall(plateregex,name)[0])) & drugdf['molecule']]\n",
    "    df_dict[i] = pd.concat([df1['molecule'],df_dict[i]],axis=1, sort=False)\n",
    "    df_dict[i]['molecule'] = df_dict[i]['molecule'].fillna('DMSO')\n",
    "    i+=1\n",
    "# Display a sample of the assembled DataFrame\n",
    "display_markdown('### This is a sample of the structure of the imported data for plate ' + plate_name[0]+':',raw=True)\n",
    "df_dict[0].head()"
   ]
  },
  {
   "cell_type": "markdown",
   "metadata": {},
   "source": [
    "***\n",
    "### Generate Heatmaps\n",
    "\n",
    "Takes the imported data from the previous section and creates a heatmap in a plateview. Two sliders are presented to allow the user to select which plate and which feature they would like displayed. \n",
    "\n",
    "**Previous sections import data and organize it into a dictionary of dataframes. The plate names are stored in a list**\n",
    "\n",
    "Now take that data and create a continously updated heatmap as the sliders for the plate and the feature are adjusted"
   ]
  },
  {
   "cell_type": "code",
   "execution_count": 3,
   "metadata": {
    "scrolled": false
   },
   "outputs": [
    {
     "data": {
      "application/vnd.jupyter.widget-view+json": {
       "model_id": "f3698468d95b463c8bf2b5b7f10da96e",
       "version_major": 2,
       "version_minor": 0
      },
      "text/plain": [
       "interactive(children=(IntSlider(value=0, description='Feature:', max=4), IntSlider(value=0, description='Plate…"
      ]
     },
     "metadata": {},
     "output_type": "display_data"
    }
   ],
   "source": [
    "def update_heatmap(feature,plate,table,plate_name):\n",
    "    # Display heatmap of features\n",
    "    df = df_dict[plate]\n",
    "    col_name = df.columns[feature+3]\n",
    "    plateview = df.pivot(index='pRow', columns='pCol', values=col_name)\n",
    "    dyn_map = sns.heatmap(plateview, linewidths=.05, square =True, cmap='coolwarm', cbar_kws={\"orientation\": \"horizontal\"})\n",
    "    dyn_map.set_title('Plate: ' + plate_name[plate] + '   Feature: ' + col_name)\n",
    "    display_markdown('### Feature Heatmap\\n ### Plate: ' + plate_name[plate] + '  Feature: ' + col_name, raw=True)\n",
    "    plt.show()\n",
    "    \n",
    "    # Display table showing location of compounds that updates as plate slider is moved\n",
    "    drug_plateview = df_dict[plate].pivot(index='pRow', columns='pCol', values='molecule')\n",
    "    display_markdown('### Compound Positions Plate: ' + plate_name[plate], raw=True)\n",
    "    display(drug_plateview)\n",
    "\n",
    "# Widgets and controls for heatmap that will update in realtime\n",
    "sns.set(rc={'figure.figsize':(11.7,8.27)})\n",
    "plate = widgets.IntSlider(min=0,max=(len(plate_name)-1),description='Plate:') \n",
    "feature = widgets.IntSlider(min=0,max=(len(df_dict[0].columns)-4),description='Feature:')\n",
    "widgets.interactive(update_heatmap,feature=feature,plate=plate,table=fixed(df_dict),plate_name=fixed(plate_name))"
   ]
  },
  {
   "cell_type": "markdown",
   "metadata": {},
   "source": [
    "***\n",
    "### Identify Candidates\n",
    "Perform a normalization of the data using the DMSO controls. Display a candidate list based on thresholding parameters and graph the values of all wells.\n"
   ]
  },
  {
   "cell_type": "code",
   "execution_count": 4,
   "metadata": {},
   "outputs": [],
   "source": [
    "# Calculate the DMSO control's mean and standard deviation for every feature of each plate. Save it as a dataframe called dmsodf\n",
    "dmsostat = []\n",
    "featurecol = df_dict[0].columns\n",
    "featurecol = featurecol[3:len(featurecol)]\n",
    "for i in df_dict:\n",
    "    dmsodf = df_dict[i].loc[df_dict[i]['molecule']=='DMSO']\n",
    "    \n",
    "    for j in featurecol:\n",
    "        stat=OrderedDict()\n",
    "        stat['plate'] = plate_name[i]\n",
    "        stat['feature'] = j\n",
    "        stat['mean'] = dmsodf[j].mean()\n",
    "        stat['std'] = dmsodf[j].std()\n",
    "        dmsostat.append(stat)\n",
    "\n",
    "statdf = pd.DataFrame(dmsostat)"
   ]
  },
  {
   "cell_type": "code",
   "execution_count": 5,
   "metadata": {
    "scrolled": false
   },
   "outputs": [],
   "source": [
    "# df_norm is a dictionary of normalized data from the dictionary df_dict\n",
    "df_norm=df_dict\n",
    "for i in df_norm:\n",
    "    df_temp = df_norm[i]\n",
    "    statdf_temp = statdf.loc[statdf['plate']==plate_name[i]]\n",
    "    for j in featurecol:\n",
    "        val = statdf_temp.loc[statdf_temp['feature'] == j]['mean'].tolist()\n",
    "        df_temp[j] = 100*(1-df_temp[j]/val)\n",
    "            \n",
    "    df_norm.update({i: df_temp})"
   ]
  },
  {
   "cell_type": "code",
   "execution_count": 6,
   "metadata": {
    "scrolled": false
   },
   "outputs": [
    {
     "data": {
      "application/vnd.jupyter.widget-view+json": {
       "model_id": "e5306b798cd948edb620cae71cd12089",
       "version_major": 2,
       "version_minor": 0
      },
      "text/plain": [
       "interactive(children=(IntSlider(value=0, description='Plate:', max=4), IntSlider(value=0, description='Feature…"
      ]
     },
     "metadata": {},
     "output_type": "display_data"
    }
   ],
   "source": [
    "def update_candidates(plate_norm,feature_norm,sigma_thresh,celldeath_thresh,plate_name,df_norm,statdf,featurecol):\n",
    "    # Normalize data\n",
    "    avgfeature = (statdf.loc[(statdf['plate']== plate_name[plate_norm]) & (statdf['feature']==featurecol[feature_norm])]['mean']).to_list()[0]\n",
    "    stdfeature = (statdf.loc[(statdf['plate']== plate_name[plate_norm]) & (statdf['feature']==featurecol[feature_norm])]['std']).to_list()[0]\n",
    "    \n",
    "    avgcell = (statdf.loc[(statdf['plate']== plate_name[plate_norm]) & (statdf['feature']=='ValidObjectCount')]['mean']).to_list()[0]\n",
    "    stdcell = (statdf.loc[(statdf['plate']== plate_name[plate_norm]) & (statdf['feature']=='ValidObjectCount')]['std']).to_list()[0]\n",
    "    print('plate #:',plate_name[plate_norm], '\\nDMSO Control Value:', featurecol[feature_norm]+':', int(avgfeature), '+-', int(stdfeature), 'CellCount:', int(avgcell), '+-', int(stdcell))\n",
    "    \n",
    "    dfsort = df_norm[plate_norm].sort_values(by=featurecol[feature_norm])\n",
    "    \n",
    "    # Display Scatterplot of %Reduced_%HIGH_TargetTotalIntenCh2\n",
    "    sns.set(style=\"whitegrid\")\n",
    "    fig, ax = plt.subplots()\n",
    "    ax.scatter(x=list(range(1,len(df_norm[plate_norm].index)+1)), y='ValidObjectCount', data=dfsort)\n",
    "    ax2 =ax.twinx()\n",
    "    ax2.scatter(x=list(range(1,len(df_norm[plate_norm].index)+1)), y=featurecol[feature_norm], data=dfsort, color='r')\n",
    "    ax.set(ylabel='%Reduced_CellCount(BLUE)')\n",
    "    ax2.set(ylabel='%Reduced_'+featurecol[feature_norm]+'(RED)')\n",
    "\n",
    "    # Display list of candidates that satisfy criteria\n",
    "    hitslist = df_norm[plate_norm].loc[(df_norm[plate_norm][featurecol[feature_norm]] >= (stdfeature*sigma_thresh)) & (df_norm[plate_norm]['ValidObjectCount'] <= (celldeath_thresh*avgcell)), ['molecule',featurecol[feature_norm], 'ValidObjectCount']]\n",
    "    display('Number of candidates:', len(hitslist))\n",
    "    display(hitslist)\n",
    "    \n",
    "# Widgets for graph and candidate list that updates in realtime\n",
    "plate_norm = widgets.IntSlider(value=0,min=0,max=(len(plate_name)-1),description='Plate:')\n",
    "feature_norm = widgets.IntSlider(min=0,max=(len(featurecol)-1),description='Feature:')\n",
    "sigma_thresh = widgets.FloatSlider(min=1,max=10,description='Sigma multiplier:') \n",
    "celldeath_thresh = widgets.IntSlider(min=1,max=100,description='Reduction in cell count:')\n",
    "\n",
    "widgets.interactive(update_candidates, plate_norm=plate_norm, feature_norm=feature_norm, sigma_thresh=sigma_thresh,celldeath_thresh=celldeath_thresh,plate_name=fixed(plate_name),df_norm=fixed(df_norm),statdf=fixed(statdf),featurecol =fixed(featurecol))"
   ]
  },
  {
   "cell_type": "code",
   "execution_count": null,
   "metadata": {},
   "outputs": [],
   "source": []
  }
 ],
 "metadata": {
  "kernelspec": {
   "display_name": "Python 3",
   "language": "python",
   "name": "python3"
  },
  "language_info": {
   "codemirror_mode": {
    "name": "ipython",
    "version": 3
   },
   "file_extension": ".py",
   "mimetype": "text/x-python",
   "name": "python",
   "nbconvert_exporter": "python",
   "pygments_lexer": "ipython3",
   "version": "3.7.2"
  }
 },
 "nbformat": 4,
 "nbformat_minor": 2
}
